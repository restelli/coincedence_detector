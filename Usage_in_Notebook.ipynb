{
 "cells": [
  {
   "cell_type": "markdown",
   "id": "5349f516",
   "metadata": {},
   "source": [
    "## Running the experiment just saving data into a file"
   ]
  },
  {
   "cell_type": "code",
   "execution_count": 1,
   "id": "209ff5a1-e153-48a0-96da-b5442809bee2",
   "metadata": {},
   "outputs": [
    {
     "name": "stdout",
     "output_type": "stream",
     "text": [
      "This is the list of ports I found:\n",
      "                                  COM1\n",
      "                                  COM4\n",
      "COM4\n",
      "FPGA hardware initialized\n",
      "The FPGA started the acquisition\n",
      "A = 3941.000, B = 2024.000, B' = 0.000, AB = 1.000, AB' = 0.000, BB' = 0.000, ABB' = 0.000 \n",
      "A = 7583.000, B = 3924.000, B' = 0.000, AB = 1.000, AB' = 0.000, BB' = 0.000, ABB' = 0.000 \n",
      "A = 7651.000, B = 3920.000, B' = 0.000, AB = 1.000, AB' = 0.000, BB' = 0.000, ABB' = 0.000 \n",
      "The FPGA stopped the acquisition\n"
     ]
    }
   ],
   "source": [
    "from coincidence import Controls\n",
    "hardware = Controls(filename=\"Data/good_data2.txt\",append=False)\n",
    "\n",
    "number_of_samples = 10\n",
    "\n",
    "for n, sample in enumerate(hardware.collect_data(number_of_samples)):\n",
    "    if n<3:\n",
    "        print(\"A = {:.3f}, B = {:.3f}, B' = {:.3f}, AB = {:.3f}, AB' = {:.3f}, BB' = {:.3f}, ABB' = {:.3f} \".format(*sample))\n",
    "\n",
    "    \n",
    "del hardware"
   ]
  },
  {
   "cell_type": "markdown",
   "id": "0ff53d25-ff84-4ca8-9f64-60a6bab936dc",
   "metadata": {
    "tags": []
   },
   "source": [
    "## Running the experiment with realtime processing\n",
    "Then the experiment can be run by calling the generator .collect_data(samples)"
   ]
  },
  {
   "cell_type": "markdown",
   "id": "67ecfdb8-6749-4ca9-badc-09cc434c32a6",
   "metadata": {},
   "source": [
    "# Using the coincidence module\n",
    "First step is loading the class Controls.\n",
    "There should be only an instance of the class running and calling the instance initialized the hardware.\n",
    "Optionally it is possibile to save the data into a file while they are collected."
   ]
  },
  {
   "cell_type": "code",
   "execution_count": null,
   "id": "ee4debcb-9664-4870-8fe8-696524c0251a",
   "metadata": {
    "tags": []
   },
   "outputs": [],
   "source": [
    "\n"
   ]
  },
  {
   "cell_type": "markdown",
   "id": "429f6672-5abf-4249-9284-c57043fb4e59",
   "metadata": {},
   "source": [
    "## Running the Gui\n",
    "The gui can be run simply by opening anaconda prompt, navigating to this folder and type thecommand:\n",
    "\n",
    "```\n",
    "python -m coincidence\n",
    "```"
   ]
  },
  {
   "cell_type": "code",
   "execution_count": null,
   "id": "daa759d4-432e-4a59-ab6e-2344cf0d8afa",
   "metadata": {},
   "outputs": [],
   "source": [
    "import numpy as np\n",
    "data = []\n",
    "with open(\"Data/good_data2.txt\",'r') as f:\n",
    "    for line in f:\n",
    "        data.append([float(t) for t in line.split(',')])\n",
    "data=np.array(data)"
   ]
  },
  {
   "cell_type": "code",
   "execution_count": null,
   "id": "b53b183b",
   "metadata": {},
   "outputs": [],
   "source": [
    "data"
   ]
  },
  {
   "cell_type": "code",
   "execution_count": null,
   "id": "2832714f",
   "metadata": {},
   "outputs": [],
   "source": []
  },
  {
   "cell_type": "code",
   "execution_count": null,
   "id": "e5b13772",
   "metadata": {},
   "outputs": [],
   "source": []
  }
 ],
 "metadata": {
  "kernelspec": {
   "display_name": "Python 3 (ipykernel)",
   "language": "python",
   "name": "python3"
  },
  "language_info": {
   "codemirror_mode": {
    "name": "ipython",
    "version": 3
   },
   "file_extension": ".py",
   "mimetype": "text/x-python",
   "name": "python",
   "nbconvert_exporter": "python",
   "pygments_lexer": "ipython3",
   "version": "3.11.5"
  }
 },
 "nbformat": 4,
 "nbformat_minor": 5
}
