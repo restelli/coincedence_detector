{
 "cells": [
  {
   "cell_type": "markdown",
   "id": "67ecfdb8-6749-4ca9-badc-09cc434c32a6",
   "metadata": {},
   "source": [
    "# Using the coincidence module\n",
    "First step is loading the class Controls.\n",
    "There should be only an instance of the class running and calling the instance initialized the hardware.\n",
    "Optionally it is possibile to save the data into a file while they are collected."
   ]
  },
  {
   "cell_type": "code",
   "execution_count": null,
   "id": "209ff5a1-e153-48a0-96da-b5442809bee2",
   "metadata": {},
   "outputs": [],
   "source": [
    "from coincidence import Controls\n",
    "hardware = Controls(filename=None)"
   ]
  },
  {
   "cell_type": "markdown",
   "id": "0ff53d25-ff84-4ca8-9f64-60a6bab936dc",
   "metadata": {
    "tags": []
   },
   "source": [
    "## Running the experiment\n",
    "Then the experiment can be run by calling the generator .collect_data(samples)"
   ]
  },
  {
   "cell_type": "code",
   "execution_count": null,
   "id": "ee4debcb-9664-4870-8fe8-696524c0251a",
   "metadata": {
    "tags": []
   },
   "outputs": [],
   "source": [
    "for sample in hardware.collect_data(7):\n",
    "    print(\"A = {:.3f}, B = {:.3f}, B' = {:.3f}, AB = {:.3f}, AB' = {:.3f}, BB' = {:.3f}, ABB' = {:.3f} \".format(*sample))"
   ]
  },
  {
   "cell_type": "markdown",
   "id": "429f6672-5abf-4249-9284-c57043fb4e59",
   "metadata": {},
   "source": [
    "## Running the Gui\n",
    "The gui can be run simply by typing:\n",
    "\n",
    "```\n",
    "python -m coincidence\n",
    "```"
   ]
  },
  {
   "cell_type": "code",
   "execution_count": null,
   "id": "daa759d4-432e-4a59-ab6e-2344cf0d8afa",
   "metadata": {},
   "outputs": [],
   "source": []
  }
 ],
 "metadata": {
  "kernelspec": {
   "display_name": "Python 3 (ipykernel)",
   "language": "python",
   "name": "python3"
  },
  "language_info": {
   "codemirror_mode": {
    "name": "ipython",
    "version": 3
   },
   "file_extension": ".py",
   "mimetype": "text/x-python",
   "name": "python",
   "nbconvert_exporter": "python",
   "pygments_lexer": "ipython3",
   "version": "3.11.4"
  }
 },
 "nbformat": 4,
 "nbformat_minor": 5
}
